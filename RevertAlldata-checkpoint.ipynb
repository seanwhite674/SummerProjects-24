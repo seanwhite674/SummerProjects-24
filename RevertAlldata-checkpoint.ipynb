{
 "cells": [
  {
   "cell_type": "code",
   "execution_count": 58,
   "id": "66e3dbe3-d6bf-4114-b3b4-a8563655fdbc",
   "metadata": {},
   "outputs": [],
   "source": [
    "import numpy as np\n",
    "import pandas as pd\n",
    "import matplotlib.pyplot as plt\n",
    "import seaborn as sns; sns.set()"
   ]
  },
  {
   "cell_type": "code",
   "execution_count": 60,
   "id": "cd9cfee1-3967-4cd0-8c24-196d14a8f138",
   "metadata": {},
   "outputs": [],
   "source": [
    "data = pd.read_excel(\"Data Project data.xlsx\")"
   ]
  },
  {
   "cell_type": "code",
   "execution_count": 62,
   "id": "eaec2414-6244-403e-8f86-0f0a87421ade",
   "metadata": {},
   "outputs": [
    {
     "data": {
      "text/plain": [
       "9       16.66\n",
       "10      16.74\n",
       "11      16.79\n",
       "12      16.69\n",
       "13      16.80\n",
       "        ...  \n",
       "3249    15.05\n",
       "3250    15.03\n",
       "3251    15.06\n",
       "3252    14.96\n",
       "3253    14.95\n",
       "Name: Spread, Length: 3245, dtype: float64"
      ]
     },
     "execution_count": 62,
     "metadata": {},
     "output_type": "execute_result"
    }
   ],
   "source": [
    "spreadprice = data.loc[9:,\"Spread\"]\n",
    "spreadprice"
   ]
  },
  {
   "cell_type": "code",
   "execution_count": 64,
   "id": "1db9c25f-b201-4218-8847-faec5ef8ab0b",
   "metadata": {},
   "outputs": [
    {
     "data": {
      "text/plain": [
       "9       16.80\n",
       "10      16.79\n",
       "11      16.79\n",
       "12      16.78\n",
       "13      16.77\n",
       "        ...  \n",
       "3249    15.00\n",
       "3250    15.01\n",
       "3251    15.02\n",
       "3252    15.03\n",
       "3253    15.02\n",
       "Name: SpreadSMA (10), Length: 3245, dtype: float64"
      ]
     },
     "execution_count": 64,
     "metadata": {},
     "output_type": "execute_result"
    }
   ],
   "source": [
    "spreadsma = data.loc[9:,\"SpreadSMA (10)\"]\n",
    "spreadsma"
   ]
  },
  {
   "cell_type": "code",
   "execution_count": 66,
   "id": "8f4fe7e1-3d8d-48bd-ae9d-9d42f7d4a2d0",
   "metadata": {},
   "outputs": [
    {
     "data": {
      "text/plain": [
       "0      2024-02-01 08:00:00\n",
       "1      2024-02-01 08:30:00\n",
       "2      2024-02-01 09:00:00\n",
       "3      2024-02-01 09:30:00\n",
       "4      2024-02-01 10:00:00\n",
       "               ...        \n",
       "3249   2024-08-29 12:30:00\n",
       "3250   2024-08-29 13:00:00\n",
       "3251   2024-08-29 13:30:00\n",
       "3252   2024-08-29 14:00:00\n",
       "3253   2024-08-29 14:30:00\n",
       "Name: Timestamp, Length: 3254, dtype: datetime64[ns]"
      ]
     },
     "execution_count": 66,
     "metadata": {},
     "output_type": "execute_result"
    }
   ],
   "source": [
    "timestamp = data.loc[:,\"Timestamp\"]\n",
    "timestamp"
   ]
  },
  {
   "cell_type": "markdown",
   "id": "13081981-316c-4644-92b9-173a80267a6e",
   "metadata": {},
   "source": [
    "# This Function finds where the spread price differs to the moving average by more than 20 ticks. Then by inputting the time you allow to revert it returns wether the price reverts back to the mean or not and how long"
   ]
  },
  {
   "cell_type": "code",
   "execution_count": 33,
   "id": "c71638d7-1399-45ed-8d0a-a1d83ed761ea",
   "metadata": {},
   "outputs": [],
   "source": [
    "#time to revert in minutes\n",
    "def Revert(spreadprice,spreadsma,timestamp,timetorevert):\n",
    "    diff = spreadsma-spreadprice\n",
    "    pos = []\n",
    "    n= len(diff)\n",
    "    i=0\n",
    "    while(i<n):\n",
    "    # checking if difference is greater than 20 ticks\n",
    "        if (np.abs(diff.iloc[i]) >0.2):\n",
    "            pos.append(diff.index[i])\n",
    "        i+=1\n",
    "    pos = np.array(pos)\n",
    "    n=len(pos)\n",
    "    newlist=[]\n",
    "    newlist.append(pos[0])\n",
    "    shortarray=pos\n",
    "    i=0\n",
    "    while(newlist[i]<pos[n-1]-8):\n",
    "        # divide entry by 6. Only take 1 difference by 20 ticks every 3 hours\n",
    "        shortarray = pos[pos>(shortarray[0]+8)]\n",
    "        newlist.append(shortarray[0])\n",
    "        i+=1\n",
    "    newlist=np.array(newlist)\n",
    "    times = len(newlist)\n",
    "    print(\"The spread price diverts from the simple moving average by 20 ticks or more %.0f times in this period\" %times)\n",
    "    # First time spread price moves 20 ticks from moving average is at index 16\n",
    "    # Stored the times the spread price moves from 20 ticks in array called newlist\n",
    "    i=0\n",
    "    while(i<times):\n",
    "        # time period is in half hours\n",
    "        timeperiod = timetorevert\n",
    "        # index of where price differs to moving average by 20 ticks\n",
    "        index = newlist[i]\n",
    "        time = timestamp.loc[index]\n",
    "        j=0\n",
    "        spreadpriceatextreme = spreadprice.loc[index]\n",
    "        spreadpriceatextreme\n",
    "        if (spreadpriceatextreme > spreadsma.loc[index]):\n",
    "            #print(spreadsma.loc[index])\n",
    "            while (j<=timeperiod):\n",
    "                if (spreadprice.loc[index+j]<=spreadsma.loc[index]):\n",
    "                    print(\"Returns to mean after %0.2f minutes around %s\"%((j*30),time))\n",
    "                    break\n",
    "                elif(j==timeperiod) :\n",
    "                    print(\"Does not return to mean after %0.2f minutes %s\"%((j*30),time))\n",
    "                j+=1\n",
    "        else :\n",
    "            while (j<=timeperiod):\n",
    "                if (spreadprice.loc[index+j]>=spreadsma.loc[index]):\n",
    "                    print(\"Returns to mean after %0.2f minutes %s\"%((j*30),time))\n",
    "                    break\n",
    "                elif(j==timeperiod) :\n",
    "                    print(\"Does not return to mean after %0.2f minutes %s\"%((j*30),time))\n",
    "                j+=1\n",
    "        i+=1\n"
   ]
  },
  {
   "cell_type": "markdown",
   "id": "4fded9c9-75b8-41c9-950a-4b787b96cd9b",
   "metadata": {},
   "source": [
    "# This Function finds the probability of spread price reverting back to the mean after price differs to the moving average by more than 20 ticks"
   ]
  },
  {
   "cell_type": "code",
   "execution_count": 36,
   "id": "9cb80f72-873a-455e-9df9-fad62e0841dc",
   "metadata": {},
   "outputs": [],
   "source": [
    "#time to revert in minutes\n",
    "def RevertProbability(spreadprice,spreadsma,timestamp,timetorevert):\n",
    "    count=0\n",
    "    sumoftime=0\n",
    "    diff = spreadsma-spreadprice\n",
    "    pos = []\n",
    "    n= len(diff)\n",
    "    i=0\n",
    "    while(i<n):\n",
    "    # checking if difference is greater than 20 ticks\n",
    "        if (np.abs(diff.iloc[i]) >0.2):\n",
    "            pos.append(diff.index[i])\n",
    "        i+=1\n",
    "    pos = np.array(pos)\n",
    "    n=len(pos)\n",
    "    newlist=[]\n",
    "    newlist.append(pos[0])\n",
    "    shortarray=pos\n",
    "    i=0\n",
    "    while(newlist[i]<pos[n-1]-8):\n",
    "        # divide entry by 8. Only take 1 difference by 20 ticks every 3 hours\n",
    "        shortarray = pos[pos>(shortarray[0]+8)]\n",
    "        newlist.append(shortarray[0])\n",
    "        i+=1\n",
    "    newlist=np.array(newlist)\n",
    "    times = len(newlist)\n",
    "    print(\"The spread price diverts from the simple moving average by 20 ticks or more %.0f times in this period\" %times)\n",
    "    # First time spread price moves 20 ticks from moving average is at index 16\n",
    "    # Stored the times the spread price moves from 20 ticks in array called newlist\n",
    "    i=0\n",
    "    while(i<times):\n",
    "        # time period is in half hours\n",
    "        timeperiod = timetorevert\n",
    "        # index of where price differs to moving average by 20 ticks\n",
    "        index = newlist[i]\n",
    "        time = timestamp.loc[index]\n",
    "        j=0\n",
    "        spreadpriceatextreme = spreadprice.loc[index]\n",
    "        spreadpriceatextreme\n",
    "        if (spreadpriceatextreme > spreadsma.loc[index]):\n",
    "            #print(spreadsma.loc[index])\n",
    "            while (j<=timeperiod):\n",
    "                if (spreadprice.loc[index+j]<=spreadsma.loc[index]):\n",
    "                    sumoftime+=30*j\n",
    "                    count+=1\n",
    "                    break\n",
    "                j+=1\n",
    "        else :\n",
    "            while (j<=timeperiod):\n",
    "                if (spreadprice.loc[index+j]>=spreadsma.loc[index]):\n",
    "                    sumoftime+=30*j\n",
    "                    count+=1\n",
    "                    break\n",
    "                j+=1\n",
    "        i+=1\n",
    "    prob=np.round(count/times,3)\n",
    "    print(\"The price reverts back to the mean %.0f times out of %.0f.That is %0.2f percent of the time\"%(count,times,(prob*100)))\n",
    "    print(\"Keep in mind this is when you give the price %0.2f minutes to revert\"%(timetorevert*30))\n",
    "    print(\"The average time it takes to revert is : %0.f minutes \"%(sumoftime/count))"
   ]
  },
  {
   "cell_type": "code",
   "execution_count": 54,
   "id": "e50108c6-f470-4cd9-96f8-0ebafb96503e",
   "metadata": {},
   "outputs": [],
   "source": [
    "#Revert(spreadprice,spreadsma,timestamp,12)"
   ]
  },
  {
   "cell_type": "code",
   "execution_count": 40,
   "id": "a4e8fbc8-c37c-4e18-bf08-b9acd7e95446",
   "metadata": {},
   "outputs": [
    {
     "name": "stdout",
     "output_type": "stream",
     "text": [
      "The spread price diverts from the simple moving average by 20 ticks or more 50 times in this period\n",
      "The price reverts back to the mean 15 times out of 50.That is 30.00 percent of the time\n",
      "Keep in mind this is when you give the price 540.00 minutes to revert\n",
      "The average time it takes to revert is : 282 minutes \n"
     ]
    }
   ],
   "source": [
    "RevertProbability(spreadprice,spreadsma,timestamp,18)"
   ]
  },
  {
   "cell_type": "markdown",
   "id": "679e277b-1d24-4804-aeed-91dee9de2dcf",
   "metadata": {},
   "source": [
    "# This Function finds the probability of spread price reverting back to the mean after price differs to moving average by 20 ticks and then 2 of the next 3 candles revert back to mean. You would enter the trade after two candles revert back to mean after the 20 tick difference giving confirmation before entering the trade"
   ]
  },
  {
   "cell_type": "code",
   "execution_count": 43,
   "id": "15e8191e-f7ce-4011-8a3c-f4c41e0bf37b",
   "metadata": {},
   "outputs": [],
   "source": [
    "#time to revert in minutes\n",
    "def RevertProbability2of3(spreadprice,spreadsma,timestamp,timetorevert):\n",
    "    count=0\n",
    "    totalcount=0\n",
    "    sumoftime=0\n",
    "    diff = spreadsma-spreadprice\n",
    "    pos = []\n",
    "    n= len(diff)\n",
    "    i=0\n",
    "    while(i<n):\n",
    "    # checking if difference is greater than 20 ticks\n",
    "        if (np.abs(diff.iloc[i]) >0.2):\n",
    "            pos.append(diff.index[i])\n",
    "        i+=1\n",
    "    pos = np.array(pos)\n",
    "    n=len(pos)\n",
    "    newlist=[]\n",
    "    newlist.append(pos[0])\n",
    "    shortarray=pos\n",
    "    i=0\n",
    "    while(newlist[i]<pos[n-1]-8):\n",
    "        # divide entry by 8. Only take 1 difference by 20 ticks every 3 hours\n",
    "        shortarray = pos[pos>(shortarray[0]+8)]\n",
    "        newlist.append(shortarray[0])\n",
    "        i+=1\n",
    "    newlist=np.array(newlist)\n",
    "    times = len(newlist)\n",
    "    print(\"The spread price diverts from the simple moving average by 20 ticks or more %.0f times in this period\" %times)\n",
    "    # First time spread price moves 20 ticks from moving average is at index 16\n",
    "    # Stored the times the spread price moves from 20 ticks in array called newlist\n",
    "    i=0\n",
    "    while(i<times):\n",
    "        sum=0\n",
    "        # time period is in half hours\n",
    "        timeperiod = timetorevert\n",
    "        # index of where price differs to moving average by 20 ticks\n",
    "        index = newlist[i]\n",
    "        time = timestamp.loc[index]\n",
    "        j=0\n",
    "        spreadpriceatextreme = spreadprice.loc[index]\n",
    "        spreadpriceatextreme\n",
    "        if (spreadpriceatextreme > spreadsma.loc[index]):\n",
    "            q=0\n",
    "            while(q<3):\n",
    "                if (spreadprice.loc[index+q+1]<spreadprice.loc[index+q]):\n",
    "                    sum+=1\n",
    "                q+=1\n",
    "            if(sum>=2):\n",
    "                totalcount+=1\n",
    "                #print(spreadsma.loc[index])\n",
    "                while (j<=timeperiod):\n",
    "                    if (spreadprice.loc[index+j]<=spreadsma.loc[index]):\n",
    "                        sumoftime+=30*j\n",
    "                        count+=1\n",
    "                        break\n",
    "                    j+=1\n",
    "        else :\n",
    "            q=0\n",
    "            while(q<3):\n",
    "                if (spreadprice.loc[index+q+1]>spreadprice.loc[index+q]):\n",
    "                    sum+=1\n",
    "                q+=1\n",
    "            if(sum>=2):\n",
    "                totalcount+=1\n",
    "                while (j<=timeperiod):\n",
    "                    if (spreadprice.loc[index+j]>=spreadsma.loc[index]):\n",
    "                        sumoftime+=30*j\n",
    "                        count+=1\n",
    "                        break\n",
    "                    j+=1\n",
    "        i+=1\n",
    "    prob=np.round(count/totalcount,3)\n",
    "    print(\"Here we impose the criteria that 2 of the next 3 candles move back towards the mean. This happens %0.f times\"%(totalcount))\n",
    "    print(\"The price reverts back to the mean %.0f times out of these %.0f times.That is %0.2f percent of the time\"%(count,totalcount,(prob*100)))\n",
    "    print(\"Keep in mind this is when you give the price %0.2f minutes to revert\"%(timetorevert*30 - 90))\n",
    "    print(\"The average time it takes to revert is : %0.f minutes \"%(sumoftime/count))"
   ]
  },
  {
   "cell_type": "markdown",
   "id": "7fa1aa42-a0ca-47af-a96d-b891c5ab48c4",
   "metadata": {},
   "source": [
    "## Giving trade idea 3 hours after 2 of the 3 candles revert back to mean after the initial 20 tick difference"
   ]
  },
  {
   "cell_type": "code",
   "execution_count": 46,
   "id": "e330e86c-c038-4987-a456-d23caef5fe90",
   "metadata": {},
   "outputs": [
    {
     "name": "stdout",
     "output_type": "stream",
     "text": [
      "The spread price diverts from the simple moving average by 20 ticks or more 50 times in this period\n",
      "Here we impose the criteria that 2 of the next 3 candles move back towards the mean. This happens 19 times\n",
      "The price reverts back to the mean 6 times out of these 19 times.That is 31.60 percent of the time\n",
      "Keep in mind this is when you give the price 180.00 minutes to revert\n",
      "The average time it takes to revert is : 145 minutes \n"
     ]
    }
   ],
   "source": [
    "RevertProbability2of3(spreadprice,spreadsma,timestamp,9)"
   ]
  },
  {
   "cell_type": "markdown",
   "id": "1e81983f-1f8c-4901-b81f-d86ec3e0e69f",
   "metadata": {},
   "source": [
    "## Giving trade idea 6 hours after 2 of the 3 candles revert back to mean after the initial 20 tick difference"
   ]
  },
  {
   "cell_type": "code",
   "execution_count": 49,
   "id": "c4ebdfc8-2dd3-4d5e-b06f-c153212cf63e",
   "metadata": {},
   "outputs": [
    {
     "name": "stdout",
     "output_type": "stream",
     "text": [
      "The spread price diverts from the simple moving average by 20 ticks or more 50 times in this period\n",
      "Here we impose the criteria that 2 of the next 3 candles move back towards the mean. This happens 19 times\n",
      "The price reverts back to the mean 13 times out of these 19 times.That is 68.40 percent of the time\n",
      "Keep in mind this is when you give the price 360.00 minutes to revert\n",
      "The average time it takes to revert is : 263 minutes \n"
     ]
    }
   ],
   "source": [
    "RevertProbability2of3(spreadprice,spreadsma,timestamp,15)"
   ]
  },
  {
   "cell_type": "markdown",
   "id": "581820dc-91be-4dfc-9337-ee30853319a7",
   "metadata": {},
   "source": [
    "## Giving trade idea 9 hours after 2 of the 3 candles revert back to mean after the initial 20 tick difference"
   ]
  },
  {
   "cell_type": "code",
   "execution_count": 52,
   "id": "a660bbf9-8b65-4691-b154-3040834e0b8e",
   "metadata": {},
   "outputs": [
    {
     "name": "stdout",
     "output_type": "stream",
     "text": [
      "The spread price diverts from the simple moving average by 20 ticks or more 50 times in this period\n",
      "Here we impose the criteria that 2 of the next 3 candles move back towards the mean. This happens 19 times\n",
      "The price reverts back to the mean 14 times out of these 19 times.That is 73.70 percent of the time\n",
      "Keep in mind this is when you give the price 540.00 minutes to revert\n",
      "The average time it takes to revert is : 289 minutes \n"
     ]
    }
   ],
   "source": [
    "RevertProbability2of3(spreadprice,spreadsma,timestamp,21)"
   ]
  },
  {
   "cell_type": "code",
   "execution_count": 162,
   "id": "fbec4c5e-d3f2-4daa-a1d1-e2a77e9613a9",
   "metadata": {},
   "outputs": [],
   "source": [
    "#time to revert in minutes\n",
    "def Revert2of3(spreadprice,spreadsma,timestamp,timetorevert):\n",
    "    diff = spreadsma-spreadprice\n",
    "    pos = []\n",
    "    n= len(diff)\n",
    "    i=0\n",
    "    while(i<n):\n",
    "    # checking if difference is greater than 20 ticks\n",
    "        if (np.abs(diff.iloc[i]) >0.2):\n",
    "            pos.append(diff.index[i])\n",
    "        i+=1\n",
    "    pos = np.array(pos)\n",
    "    n=len(pos)\n",
    "    newlist=[]\n",
    "    newlist.append(pos[0])\n",
    "    shortarray=pos\n",
    "    i=0\n",
    "    while(newlist[i]<pos[n-1]-8):\n",
    "        # divide entry by 6. Only take 1 difference by 20 ticks every 3 hours\n",
    "        shortarray = pos[pos>(shortarray[0]+8)]\n",
    "        newlist.append(shortarray[0])\n",
    "        i+=1\n",
    "    newlist=np.array(newlist)\n",
    "    times = len(newlist)\n",
    "    print(\"The spread price diverts from the simple moving average by 20 ticks or more %.0f times in this period\" %times)\n",
    "    # First time spread price moves 20 ticks from moving average is at index 16\n",
    "    # Stored the times the spread price moves from 20 ticks in array called newlist\n",
    "    i=0\n",
    "    while(i<times):\n",
    "        # time period is in half hours\n",
    "        timeperiod = timetorevert\n",
    "        count=0\n",
    "        # index of where price differs to moving average by 20 ticks\n",
    "        index = newlist[i]\n",
    "        time = timestamp.loc[index]\n",
    "        j=0\n",
    "        spreadpriceatextreme = spreadprice.loc[index]\n",
    "        spreadpriceatextreme\n",
    "        if (spreadpriceatextreme > spreadsma.loc[index]):\n",
    "            #print(spreadsma.loc[index])\n",
    "            q=0\n",
    "            while(q<3):\n",
    "                if (spreadprice.loc[index+q+1]<spreadprice.loc[index+q]):\n",
    "                    count+=1\n",
    "                q+=1\n",
    "            if(count>=2):\n",
    "                while (j<=timeperiod):\n",
    "                    if (spreadprice.loc[index+j]<=spreadsma.loc[index]):\n",
    "                        print(\"Returns to mean after %0.2f minutes around %s\"%((j*30),time))\n",
    "                        break\n",
    "                    elif(j==timeperiod) :\n",
    "                        print(\"Does not return to mean after %0.2f minutes %s\"%((j*30),time))\n",
    "                    j+=1\n",
    "        else :\n",
    "            q=0\n",
    "            while(q<3):\n",
    "                if (spreadprice.loc[index+q+1]>spreadprice.loc[index+q]):\n",
    "                    count+=1\n",
    "                q+=1\n",
    "            if(count>=2):\n",
    "                while (j<=timeperiod):\n",
    "                    if (spreadprice.loc[index+j]>=spreadsma.loc[index]):\n",
    "                        print(\"Returns to mean after %0.2f minutes %s\"%((j*30),time))\n",
    "                        break\n",
    "                    elif(j==timeperiod) :\n",
    "                        print(\"Does not return to mean after %0.2f minutes %s\"%((j*30),time))\n",
    "                    j+=1\n",
    "        i+=1"
   ]
  },
  {
   "cell_type": "code",
   "execution_count": 56,
   "id": "4044b78e-5309-4218-9f62-8945cfa4de11",
   "metadata": {},
   "outputs": [],
   "source": [
    "#Revert2of3(spreadprice,spreadsma,timestamp,15)"
   ]
  },
  {
   "cell_type": "code",
   "execution_count": null,
   "id": "1f55da70-e64c-43b3-a1b6-4a9b95a03ab0",
   "metadata": {},
   "outputs": [],
   "source": []
  }
 ],
 "metadata": {
  "kernelspec": {
   "display_name": "Python 3 (ipykernel)",
   "language": "python",
   "name": "python3"
  },
  "language_info": {
   "codemirror_mode": {
    "name": "ipython",
    "version": 3
   },
   "file_extension": ".py",
   "mimetype": "text/x-python",
   "name": "python",
   "nbconvert_exporter": "python",
   "pygments_lexer": "ipython3",
   "version": "3.12.4"
  }
 },
 "nbformat": 4,
 "nbformat_minor": 5
}
